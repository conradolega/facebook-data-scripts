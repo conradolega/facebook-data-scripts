{
 "cells": [
  {
   "cell_type": "markdown",
   "metadata": {},
   "source": [
    "# Playing around with Facebook data\n",
    "\n",
    "I downloaded my Facebook data and have been doing random things with it for a while.\n",
    "\n",
    "## Extracting messages\n",
    "\n",
    "The first thing I did was to work on my messages, as these comprise most of my data. The Facebook data archive shows messages in HTML, so I had to parse the HTML files. Messages are archived in descending chronological order (latest messages first), and each thread (user or group chat) is named arbitrarily (not using usernames, group names, or chat IDs).\n",
    "\n",
    "The following snippet extracts messages from a single HTML file and creates a CSV file. It should be easily extendable to do the same on all of your chats."
   ]
  },
  {
   "cell_type": "code",
   "execution_count": null,
   "metadata": {},
   "outputs": [],
   "source": [
    "import os\n",
    "import pandas\n",
    "from bs4 import BeautifulSoup\n",
    "\n",
    "filename = 'chat.html'\n",
    "\n",
    "with open(filename) as f:\n",
    "    soup = BeautifulSoup(f.read(), 'html.parser')\n",
    "    message_headers = soup.find_all('div', class_='message')\n",
    "    message_headers.reverse()\n",
    "    messages = [\n",
    "        {\n",
    "            'user': message_header.find('span', class_='user').text,\n",
    "            'date': message_header.find('span', class_='meta').text,\n",
    "            'message': message_header.next_sibling.text,\n",
    "        }\n",
    "        for message_header in message_headers]\n",
    "    df = pandas.DataFrame.from_dict(messages)\n",
    "    df.to_csv('messages.csv', encoding='utf-8', index=False)"
   ]
  }
 ],
 "metadata": {
  "kernelspec": {
   "display_name": "Python 2",
   "language": "python",
   "name": "python2"
  },
  "language_info": {
   "codemirror_mode": {
    "name": "ipython",
    "version": 2
   },
   "file_extension": ".py",
   "mimetype": "text/x-python",
   "name": "python",
   "nbconvert_exporter": "python",
   "pygments_lexer": "ipython2",
   "version": "2.7.12"
  }
 },
 "nbformat": 4,
 "nbformat_minor": 2
}
