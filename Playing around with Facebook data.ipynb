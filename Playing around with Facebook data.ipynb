{
 "cells": [
  {
   "cell_type": "markdown",
   "metadata": {},
   "source": [
    "# Playing around with Facebook data\n",
    "\n",
    "I downloaded my Facebook data and have been doing random things with it for a while.\n",
    "\n",
    "## Extracting messages\n",
    "\n",
    "The first thing I did was to work on my messages, as these comprise most of my data. The Facebook data archive shows messages in HTML, so I had to parse the HTML files. Messages are archived in descending chronological order (latest messages first), and each thread (user or group chat) is named arbitrarily (not using usernames, group names, or chat IDs).\n",
    "\n",
    "The following snippet extracts messages from a single HTML file and creates a CSV file. It should be easily extendable to do the same on all of your chats."
   ]
  },
  {
   "cell_type": "code",
   "execution_count": 1,
   "metadata": {},
   "outputs": [
    {
     "name": "stdout",
     "output_type": "stream",
     "text": [
      "Reading messages from chat.html...\n",
      "Writing 187 messages to messages.csv...\n",
      "Done writing messages.\n"
     ]
    }
   ],
   "source": [
    "import os\n",
    "import pandas\n",
    "from bs4 import BeautifulSoup\n",
    "\n",
    "filename = 'chat.html'\n",
    "\n",
    "with open(filename) as f:\n",
    "    print('Reading messages from {}...'.format(filename))\n",
    "    soup = BeautifulSoup(f.read(), 'html.parser')\n",
    "    message_headers = soup.find_all('div', class_='message')\n",
    "    message_headers.reverse()\n",
    "    messages = [\n",
    "        {\n",
    "            'user': message_header.find('span', class_='user').text,\n",
    "            'date': message_header.find('span', class_='meta').text,\n",
    "            'message': message_header.next_sibling.text,\n",
    "        }\n",
    "        for message_header in message_headers]\n",
    "    \n",
    "    print('Writing {} messages to messages.csv...'.format(len(messages)))\n",
    "    df = pandas.DataFrame.from_dict(messages)\n",
    "    df.to_csv('messages.csv', encoding='utf-8', index=False)\n",
    "    print('Done writing messages.')"
   ]
  },
  {
   "cell_type": "markdown",
   "metadata": {},
   "source": [
    "Let's work with this CSV to plot the number of messages per day."
   ]
  },
  {
   "cell_type": "code",
   "execution_count": 4,
   "metadata": {},
   "outputs": [
    {
     "data": {
      "image/png": "[encoded data removed]",
      "text/plain": [
       "<Figure size 432x288 with 1 Axes>"
      ]
     },
     "metadata": {},
     "output_type": "display_data"
    }
   ],
   "source": [
    "import matplotlib.pyplot\n",
    "from dateutil.parser import parse\n",
    "\n",
    "filename = 'messages.csv'\n",
    "\n",
    "def convert_to_date(message):\n",
    "    return parse(message.date).date()\n",
    "   \n",
    "messages = pandas.read_csv(filename)\n",
    "message_dates = messages.apply(convert_to_date, axis=1)\n",
    "messages_by_date = message_dates.groupby(message_dates).count()\n",
    "matplotlib.pyplot.show(messages_by_date.plot())"
   ]
  },
  {
   "cell_type": "markdown",
   "metadata": {},
   "source": [
    "## Getting word counts\n",
    "\n",
    "Another thing we can do is to get the frequency of words. Once we have this, we can create another graph of the most common words, or a word cloud."
   ]
  },
  {
   "cell_type": "code",
   "execution_count": 3,
   "metadata": {},
   "outputs": [
    {
     "name": "stdout",
     "output_type": "stream",
     "text": [
      "the             221\n",
      "to              167\n",
      "and             167\n",
      "of              131\n",
      "a                92\n",
      "our              70\n",
      "is               67\n",
      "for              66\n",
      "in               63\n",
      "with             60\n",
      "are              59\n",
      "on               59\n",
      "will             55\n",
      "we               44\n",
      "that             42\n",
      "have             41\n",
      "was              40\n",
      "I                40\n",
      "at               39\n",
      "be               37\n",
      "by               30\n",
      "all              28\n",
      "We               28\n",
      "&amp;            28\n",
      "this             26\n",
      "The              25\n",
      "not              25\n",
      "great            22\n",
      "has              22\n",
      "U.S.             21\n",
      "               ... \n",
      "hearing!          1\n",
      "good.             1\n",
      "going!            1\n",
      "flunky            1\n",
      "freely            1\n",
      "focus             1\n",
      "following         1\n",
      "force             1\n",
      "foreign           1\n",
      "forged            1\n",
      "forgotten.        1\n",
      "former            1\n",
      "forthcoming.      1\n",
      "forward.          1\n",
      "founded           1\n",
      "fraudulent        1\n",
      "freeze.           1\n",
      "giveaways         1\n",
      "friend            1\n",
      "friend.           1\n",
      "fulfill           1\n",
      "fun.              1\n",
      "fund              1\n",
      "fundamentals      1\n",
      "funded.           1\n",
      "funny             1\n",
      "further           1\n",
      "getting           1\n",
      "gift              1\n",
      "#AMERICA          1\n",
      "Length: 2274, dtype: int64\n"
     ]
    }
   ],
   "source": [
    "import itertools\n",
    "\n",
    "words_per_message = messages['message'].apply(str.split)\n",
    "words = list(itertools.chain.from_iterable(words_per_message))\n",
    "words_series = pandas.Series(words)\n",
    "print(words_series.groupby(words_series).count().sort_values(ascending=False))"
   ]
  },
  {
   "cell_type": "markdown",
   "metadata": {},
   "source": [
    "There are still some things to improve here:\n",
    "\n",
    "- We can remove very common words, like articles;\n",
    "- We don't remove punctuation marks (`,`, `.`, `...`, etc.)"
   ]
  },
  {
   "cell_type": "code",
   "execution_count": 6,
   "metadata": {},
   "outputs": [
    {
     "name": "stdout",
     "output_type": "stream",
     "text": [
      "the                          250\n",
      "and                          177\n",
      "to                           171\n",
      "of                           132\n",
      "a                            104\n",
      "our                           83\n",
      "we                            72\n",
      "in                            69\n",
      "is                            69\n",
      "for                           68\n",
      "with                          63\n",
      "on                            62\n",
      "are                           59\n",
      "will                          57\n",
      "that                          44\n",
      "have                          44\n",
      "great                         42\n",
      "was                           40\n",
      "i                             40\n",
      "at                            39\n",
      "be                            38\n",
      "they                          34\n",
      "all                           31\n",
      "not                           31\n",
      "it                            30\n",
      "by                            30\n",
      "country                       29\n",
      "amp                           28\n",
      "this                          28\n",
      "you                           28\n",
      "                            ... \n",
      "httpstco4kpofeii3i             1\n",
      "httpstcockbcosdq2l             1\n",
      "httpstcochuqea6rsc             1\n",
      "httpstcocf1eugmbku             1\n",
      "httpstcobu3ks62c0x             1\n",
      "httpstcobomjrk8fyk             1\n",
      "httpstcoacamtoual0remarks      1\n",
      "httpstco9phh60dvlx             1\n",
      "httpstco7nbi0dibmx             1\n",
      "httpstco6eui31r4gz             1\n",
      "httpstco60bhhrp8y1             1\n",
      "httpstco5amh8nfpjw             1\n",
      "httpstco4vvsw2smhb             1\n",
      "httpstco4ugyujpua7             1\n",
      "httpstco2qmouccvc2             1\n",
      "republican                     1\n",
      "hr                             1\n",
      "howiecarrshow                  1\n",
      "however                        1\n",
      "represent                      1\n",
      "houstonstrong                  1\n",
      "houston                        1\n",
      "house”                         1\n",
      "representative                 1\n",
      "hours                          1\n",
      "hostage                        1\n",
      "host                           1\n",
      "horrific                       1\n",
      "horrible                       1\n",
      "🇺🇸🇮🇪                           1\n",
      "Length: 1721, dtype: int64\n"
     ]
    }
   ],
   "source": [
    "import string\n",
    "\n",
    "sanitized_words = [word.lower().translate(None, string.punctuation) for word in words]\n",
    "sanitized_words_series = pandas.Series(sanitized_words)\n",
    "print(sanitized_words_series.groupby(sanitized_words_series).count().sort_values(ascending=False))"
   ]
  },
  {
   "cell_type": "code",
   "execution_count": null,
   "metadata": {},
   "outputs": [],
   "source": []
  }
 ],
 "metadata": {
  "kernelspec": {
   "display_name": "Python 2",
   "language": "python",
   "name": "python2"
  },
  "language_info": {
   "codemirror_mode": {
    "name": "ipython",
    "version": 2
   },
   "file_extension": ".py",
   "mimetype": "text/x-python",
   "name": "python",
   "nbconvert_exporter": "python",
   "pygments_lexer": "ipython2",
   "version": "2.7.12"
  }
 },
 "nbformat": 4,
 "nbformat_minor": 2
}
